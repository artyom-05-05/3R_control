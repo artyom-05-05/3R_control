{
 "cells": [
  {
   "cell_type": "code",
   "execution_count": 2,
   "metadata": {},
   "outputs": [],
   "source": [
    "import numpy as np\n",
    "import sympy as sp\n",
    "from sympy import sin, cos, pi\n",
    "\n",
    "\n",
    "def T(alpha, a, d, θ):\n",
    "    return np.array(\n",
    "        [\n",
    "            [cos(θ), -sin(θ), 0, a],\n",
    "            [sin(θ) * cos(alpha), cos(θ) * cos(alpha), -sin(alpha), -sin(alpha) * d],\n",
    "            [sin(θ) * sin(alpha), cos(θ) * sin(alpha), cos(alpha), cos(alpha) * d],\n",
    "            [0, 0, 0, 1],\n",
    "        ]\n",
    "    )"
   ]
  },
  {
   "cell_type": "markdown",
   "metadata": {},
   "source": [
    "# Forward Kinematics"
   ]
  },
  {
   "cell_type": "code",
   "execution_count": 9,
   "metadata": {},
   "outputs": [
    {
     "name": "stdout",
     "output_type": "stream",
     "text": [
      "T04 = \n"
     ]
    },
    {
     "data": {
      "text/latex": [
       "$\\displaystyle \\left[\\begin{matrix}\\cos{\\left(q_{1} + q_{2} + q_{3} \\right)} & - \\sin{\\left(q_{1} + q_{2} + q_{3} \\right)} & 0 & 0\\\\\\sin{\\left(q_{1} + q_{2} + q_{3} \\right)} & \\cos{\\left(q_{1} + q_{2} + q_{3} \\right)} & 0 & 0\\\\0 & 0 & 1 & d_{1} + d_{2} + d_{3}\\\\0 & 0 & 0 & 1\\end{matrix}\\right]$"
      ],
      "text/plain": [
       "[[cos(q1 + q2 + q3), -sin(q1 + q2 + q3), 0, 0], [sin(q1 + q2 + q3), cos(q1 + q2 + q3), 0, 0], [0, 0, 1, d1 + d2 + d3], [0, 0, 0, 1]]"
      ]
     },
     "execution_count": 9,
     "metadata": {},
     "output_type": "execute_result"
    }
   ],
   "source": [
    "q1, q2, q3, d1, d2, d3 = sp.symbols(\"q1, q2, q3, d1, d2, d3\")\n",
    "\n",
    "# Forward Kinematics (Modified DH parameters)\n",
    "T01 = T(0, 0, 0, q1)\n",
    "T12 = T(0, 0, d1, q2)\n",
    "T23 = T(0, 0, d2, q3)\n",
    "T34 = T(0, 0, d3, 0)\n",
    "\n",
    "T04 = T01 @ T12 @ T23 @ T34\n",
    "sp.simplify(T04)"
   ]
  },
  {
   "cell_type": "markdown",
   "metadata": {},
   "source": [
    "# Inverse Kinematics"
   ]
  },
  {
   "cell_type": "code",
   "execution_count": null,
   "metadata": {},
   "outputs": [],
   "source": []
  }
 ],
 "metadata": {
  "kernelspec": {
   "display_name": "Python 3",
   "language": "python",
   "name": "python3"
  },
  "language_info": {
   "codemirror_mode": {
    "name": "ipython",
    "version": 3
   },
   "file_extension": ".py",
   "mimetype": "text/x-python",
   "name": "python",
   "nbconvert_exporter": "python",
   "pygments_lexer": "ipython3",
   "version": "3.10.12"
  }
 },
 "nbformat": 4,
 "nbformat_minor": 2
}
